{
 "cells": [
  {
   "cell_type": "markdown",
   "id": "1a28909e",
   "metadata": {},
   "source": [
    "Si los rendimientos anuales pasados de una inversión fueron reportados como 20% al final del primer año, -10% al final del segundo año y 15% al final del tercer año, ¿cuál fue el rendimiento total en los tres años de la inversión?"
   ]
  },
  {
   "cell_type": "code",
   "execution_count": 1,
   "id": "4b00e4a0",
   "metadata": {},
   "outputs": [],
   "source": [
    "import pandas as pd"
   ]
  },
  {
   "cell_type": "code",
   "execution_count": 2,
   "id": "6eef252b",
   "metadata": {},
   "outputs": [],
   "source": [
    "tabla = pd.DataFrame({\n",
    "    \"ret\": [0.2, -0.1, 0.15]\n",
    "})"
   ]
  },
  {
   "cell_type": "code",
   "execution_count": 3,
   "id": "ec25c428",
   "metadata": {},
   "outputs": [
    {
     "data": {
      "text/html": [
       "<div>\n",
       "<style scoped>\n",
       "    .dataframe tbody tr th:only-of-type {\n",
       "        vertical-align: middle;\n",
       "    }\n",
       "\n",
       "    .dataframe tbody tr th {\n",
       "        vertical-align: top;\n",
       "    }\n",
       "\n",
       "    .dataframe thead th {\n",
       "        text-align: right;\n",
       "    }\n",
       "</style>\n",
       "<table border=\"1\" class=\"dataframe\">\n",
       "  <thead>\n",
       "    <tr style=\"text-align: right;\">\n",
       "      <th></th>\n",
       "      <th>ret</th>\n",
       "    </tr>\n",
       "  </thead>\n",
       "  <tbody>\n",
       "    <tr>\n",
       "      <th>0</th>\n",
       "      <td>0.20</td>\n",
       "    </tr>\n",
       "    <tr>\n",
       "      <th>1</th>\n",
       "      <td>-0.10</td>\n",
       "    </tr>\n",
       "    <tr>\n",
       "      <th>2</th>\n",
       "      <td>0.15</td>\n",
       "    </tr>\n",
       "  </tbody>\n",
       "</table>\n",
       "</div>"
      ],
      "text/plain": [
       "    ret\n",
       "0  0.20\n",
       "1 -0.10\n",
       "2  0.15"
      ]
     },
     "execution_count": 3,
     "metadata": {},
     "output_type": "execute_result"
    }
   ],
   "source": [
    "tabla"
   ]
  },
  {
   "cell_type": "code",
   "execution_count": 4,
   "id": "1e233d12",
   "metadata": {},
   "outputs": [
    {
     "data": {
      "text/plain": [
       "0.242"
      ]
     },
     "execution_count": 4,
     "metadata": {},
     "output_type": "execute_result"
    }
   ],
   "source": [
    "ret_total = (1 + tabla[\"ret\"]).prod() - 1\n",
    "ret_total"
   ]
  },
  {
   "cell_type": "markdown",
   "id": "a6521837",
   "metadata": {},
   "source": [
    "Suponga que las probabilidades de recesión, normalidad y expansión en la economía son de 40%, 30%, y 30% respectivamente. Además, suponga que va a tener un rendimiento anual en sus inversiones del -10% en caso de recesión, 8% en caso de normalidad y 23% en caso de expansión. ¿Cuál sería el rendimiento esperado anual de sus inversiones?"
   ]
  },
  {
   "cell_type": "code",
   "execution_count": 5,
   "id": "8c212e38",
   "metadata": {},
   "outputs": [],
   "source": [
    "tabla = pd.DataFrame({\n",
    "    \"prob\": [0.4, 0.3, 0.3],\n",
    "    \"ret\": [-0.1, 0.08, 0.23]\n",
    "})"
   ]
  },
  {
   "cell_type": "code",
   "execution_count": 6,
   "id": "6554e223",
   "metadata": {},
   "outputs": [
    {
     "data": {
      "text/plain": [
       "0.053"
      ]
     },
     "execution_count": 6,
     "metadata": {},
     "output_type": "execute_result"
    }
   ],
   "source": [
    "er = (tabla[\"prob\"] * tabla[\"ret\"]).sum()\n",
    "er"
   ]
  },
  {
   "cell_type": "markdown",
   "id": "61bfd2d2",
   "metadata": {},
   "source": [
    "Volatilidad"
   ]
  },
  {
   "cell_type": "code",
   "execution_count": 7,
   "id": "38dac666",
   "metadata": {},
   "outputs": [
    {
     "data": {
      "text/plain": [
       "0.13777155003846042"
      ]
     },
     "execution_count": 7,
     "metadata": {},
     "output_type": "execute_result"
    }
   ],
   "source": [
    "s = (tabla[\"prob\"] * (tabla[\"ret\"] - er)**2).sum()**0.5\n",
    "s"
   ]
  },
  {
   "cell_type": "code",
   "execution_count": null,
   "id": "a85d9632",
   "metadata": {},
   "outputs": [],
   "source": []
  }
 ],
 "metadata": {
  "kernelspec": {
   "display_name": "Python 3 (ipykernel)",
   "language": "python",
   "name": "python3"
  },
  "language_info": {
   "codemirror_mode": {
    "name": "ipython",
    "version": 3
   },
   "file_extension": ".py",
   "mimetype": "text/x-python",
   "name": "python",
   "nbconvert_exporter": "python",
   "pygments_lexer": "ipython3",
   "version": "3.9.13"
  }
 },
 "nbformat": 4,
 "nbformat_minor": 5
}
